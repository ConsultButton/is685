{
 "cells": [
  {
   "cell_type": "markdown",
   "metadata": {},
   "source": [
    "<p>\n",
    "    Kimberly Matus\n",
    "    <br>\n",
    "    IS685\n",
    "\n",
    "### Data Collection\n",
    "<p> \n",
    "    TITLE: Crimes - 2001 to present\n",
    "    <br>\n",
    "    LOCATION: https://catalog.data.gov/dataset/crimes-2001-to-present-398a4/resource/4c948605-0db4-45e8-9c06-c851f05f9f37\n",
    "    <br>\n",
    "    SIZE: 1.48 gb\n",
    "    <br>\n",
    "</p>\n",
    "### Hypothesis\n",
    "<p>\n",
    "    HYPOTHESIS\n",
    "    <br> \n",
    "    Domestic Battery in Chicago, IL **significantly decreases** when the total amount of Full-Time Police Officers increases.\n",
    "    <br><BR>\n",
    "    NULL HYPOTHESIS\n",
    "    <br>\n",
    "    Domestic Battery in Chicago, IL **does not significantly decrease** when the total amount of Full-Time Police Officers increases.\n",
    "    <br>\n",
    "</p>\n",
    "### Methodology\n",
    "<br>\n",
    "The purpose of this analysis is to determine if an increase in police officers would result in less domestic battery in Chicago, IL (*hereafter Chicago*). Multiple attempts to visualize this **failed**. \n",
    "<br><br>\n",
    "**1)** The attributes 'Primary Type' (*hereafter PT*) and 'Domestic' (*hereafter Dom*) are used in every attempt due to the necessity for sorting. Sort for PT: 'BATTERY' and Dom: True. \n",
    "<br>\n",
    "**2)** The first attempt used only the main attributes and 'Year.' Because the total amount of police officers available were listed for only 2004 and 2008, only these years were selected from the data. This did not allow for visualization - not enough information.\n",
    "<br>\n",
    "**3)** The second attempt added the 'Latitude' and 'Longitude' attributes to the prior three. Using 'Longitude' as X and 'Latitude' as y, the shape of Chicago was solidly displayed. Unfortunatley, an outlier was located which implies that either there was a data error, or an event happened outside of Chicago and was recorded. Regardless, the information was not clear enough for analysis.\n",
    "<br>\n",
    "**4)** The third attempt removed 'Latitude' and 'Longitude' and added 'District.' The data was then sent to a new dataframe containing only 'District' and the count of the events occuring in each district. The plot displays the difference between 2004 and 2008.\n",
    "<br><br>\n",
    "QUICK SYNOPSIS\n",
    "<br>\n",
    "Because the data being analyzed is comparing two datasets based on a changed strategy, the best kind of analysis to do would be A/B Testing. However, this data was also not completely sufficient. Results will show that a better dataset should have been selected.\n",
    "\n"
   ]
  },
  {
   "cell_type": "code",
   "execution_count": 1,
   "metadata": {},
   "outputs": [],
   "source": [
    "import matplotlib.pyplot as plt\n",
    "import pandas as pd\n",
    "import numpy as np"
   ]
  },
  {
   "cell_type": "code",
   "execution_count": 2,
   "metadata": {},
   "outputs": [
    {
     "data": {
      "text/html": [
       "<div>\n",
       "<style scoped>\n",
       "    .dataframe tbody tr th:only-of-type {\n",
       "        vertical-align: middle;\n",
       "    }\n",
       "\n",
       "    .dataframe tbody tr th {\n",
       "        vertical-align: top;\n",
       "    }\n",
       "\n",
       "    .dataframe thead th {\n",
       "        text-align: right;\n",
       "    }\n",
       "</style>\n",
       "<table border=\"1\" class=\"dataframe\">\n",
       "  <thead>\n",
       "    <tr style=\"text-align: right;\">\n",
       "      <th></th>\n",
       "      <th>Primary Type</th>\n",
       "      <th>Domestic</th>\n",
       "      <th>District</th>\n",
       "      <th>Year</th>\n",
       "    </tr>\n",
       "  </thead>\n",
       "  <tbody>\n",
       "    <tr>\n",
       "      <th>0</th>\n",
       "      <td>BATTERY</td>\n",
       "      <td>False</td>\n",
       "      <td>11.0</td>\n",
       "      <td>2015</td>\n",
       "    </tr>\n",
       "    <tr>\n",
       "      <th>1</th>\n",
       "      <td>OTHER OFFENSE</td>\n",
       "      <td>False</td>\n",
       "      <td>7.0</td>\n",
       "      <td>2015</td>\n",
       "    </tr>\n",
       "    <tr>\n",
       "      <th>2</th>\n",
       "      <td>BATTERY</td>\n",
       "      <td>True</td>\n",
       "      <td>2.0</td>\n",
       "      <td>2015</td>\n",
       "    </tr>\n",
       "    <tr>\n",
       "      <th>3</th>\n",
       "      <td>BATTERY</td>\n",
       "      <td>False</td>\n",
       "      <td>2.0</td>\n",
       "      <td>2015</td>\n",
       "    </tr>\n",
       "    <tr>\n",
       "      <th>4</th>\n",
       "      <td>ROBBERY</td>\n",
       "      <td>False</td>\n",
       "      <td>11.0</td>\n",
       "      <td>2015</td>\n",
       "    </tr>\n",
       "  </tbody>\n",
       "</table>\n",
       "</div>"
      ],
      "text/plain": [
       "    Primary Type  Domestic  District  Year\n",
       "0        BATTERY     False      11.0  2015\n",
       "1  OTHER OFFENSE     False       7.0  2015\n",
       "2        BATTERY      True       2.0  2015\n",
       "3        BATTERY     False       2.0  2015\n",
       "4        ROBBERY     False      11.0  2015"
      ]
     },
     "execution_count": 2,
     "metadata": {},
     "output_type": "execute_result"
    }
   ],
   "source": [
    "# upload dataset to Jupyter \n",
    "df = pd.read_csv('/Users/kmatus/Documents/Python/FinalProject/chicagoILcrimes.csv')\n",
    "\n",
    "# select 'Primary Type' 'Domestic' 'District' 'Year'\n",
    "# clean out unwanted columns\n",
    "no = ['ID',          'Case Number',    'Date',         'Block',\n",
    "      'IUCR',        'Description',    'Location Description',\n",
    "      'Arrest',      'Beat',           'Updated On',          \n",
    "      'Location',    'Ward',           'Community Area',\n",
    "      'FBI Code',    'Latitude',       'Longitude',      'X Coordinate',   'Y Coordinate']\n",
    "df.drop(no,inplace=True, axis=1)\n",
    "\n",
    "# convert district to numeric\n",
    "df['District'] = pd.to_numeric(df['District']) \n",
    "\n",
    "# view first 5 rows of data \n",
    "df.head()"
   ]
  },
  {
   "cell_type": "code",
   "execution_count": 25,
   "metadata": {
    "scrolled": true
   },
   "outputs": [
    {
     "name": "stdout",
     "output_type": "stream",
     "text": [
      "   index  District\n",
      "0    7.0      3116\n",
      "1    3.0      2959\n",
      "2    6.0      2794\n",
      "3    5.0      2424\n",
      "4    8.0      2332\n",
      "   index  District\n",
      "0    7.0      3107\n",
      "1    3.0      2663\n",
      "2    8.0      2656\n",
      "3   11.0      2293\n",
      "4   25.0      2156\n"
     ]
    }
   ],
   "source": [
    "# filter for Battery\n",
    "df1 = df[df['Primary Type'] == 'BATTERY']\n",
    "# filter for Domestic\n",
    "df2 = df1[df1['Domestic'] == True]\n",
    "\n",
    "# filter for 2004\n",
    "df3 = df2[df2['Year']==2004]\n",
    "# count occurences by district & store into a new df\n",
    "df3['District'].value_counts().reset_index().to_csv('dfa.csv', index=False, header=True)\n",
    "dfa = pd.read_csv('dfa.csv')\n",
    "# show resulting df\n",
    "print(dfa.head())\n",
    "\n",
    "# filter for 2008\n",
    "df4 = df2[df2['Year']==2008]\n",
    "# count occurences by district & store into a new df\n",
    "df4['District'].value_counts().reset_index().to_csv('dfb.csv', index=False, header=True)\n",
    "dfb = pd.read_csv('dfb.csv')\n",
    "# show resulting df\n",
    "print(dfb.head())"
   ]
  },
  {
   "cell_type": "code",
   "execution_count": 26,
   "metadata": {},
   "outputs": [
    {
     "data": {
      "image/png": "[encoded data removed]",
      "text/plain": [
       "<Figure size 432x288 with 1 Axes>"
      ]
     },
     "metadata": {},
     "output_type": "display_data"
    }
   ],
   "source": [
    "# plot the total events per district in years 2004 (red) and 2008 (blue)\n",
    "X1, y1 = dfa['index'], dfa['District']\n",
    "X2, y2 = dfb['index'], dfb['District']\n",
    "_ = plt.plot(X1, y1, marker='.', linestyle='none', color='red')\n",
    "_ = plt.plot(X2, y2, marker='.', linestyle='none', color='blue')\n",
    "_ = plt.xlabel('Chicago District')\n",
    "_ = plt.ylabel('Count of Events in Chicago')\n",
    "_ = plt.legend(('2004', '2008'))\n",
    "plt.show()"
   ]
  },
  {
   "cell_type": "code",
   "execution_count": 34,
   "metadata": {},
   "outputs": [
    {
     "name": "stdout",
     "output_type": "stream",
     "text": [
      "-57.935363716038566 2160.971516213847\n",
      "-41.116020755634885 1897.6860710231886\n"
     ]
    },
    {
     "data": {
      "image/png": "[encoded data removed]",
      "text/plain": [
       "<Figure size 432x288 with 1 Axes>"
      ]
     },
     "metadata": {},
     "output_type": "display_data"
    }
   ],
   "source": [
    "# use risidual sum of squares to fit data to a linear regression\n",
    "slope1, intercept1 = np.polyfit(X1, y1, 1)\n",
    "print(slope1, intercept1)\n",
    "slope2, intercept2 = np.polyfit(X2, y2, 1)\n",
    "print(slope2, intercept2)\n",
    "\n",
    "# determine slopes\n",
    "vals1 = np.linspace(0, 4000, 40)\n",
    "vals2 = np.linspace(0, 4000, 40)\n",
    "\n",
    "# declare rss\n",
    "rss1 = np.empty_like(vals1)\n",
    "rss2 = np.empty_like(vals2)\n",
    "\n",
    "# determine sum of squares\n",
    "for i, a in enumerate(vals1):\n",
    "    rss1[i] = np.sum((y1 - a * X1 - intercept1)**2)\n",
    "for i, a in enumerate(vals2):\n",
    "    rss2[i] = np.sum((y2 - a * X2 - intercept2)**2)\n",
    "    \n",
    "# plot both rss values\n",
    "plt.plot(vals1, rss1, '-', color='red')\n",
    "_ = plt.plot(vals2, rss2, '-', color='blue')\n",
    "plt.xlabel('slope (events per district)')\n",
    "plt.ylabel('sum of square of residuals')\n",
    "\n",
    "plt.show()"
   ]
  },
  {
   "cell_type": "markdown",
   "metadata": {},
   "source": [
    "\n",
    "### Conclusion\n",
    "<p>\n",
    "    The data selected was not ideal for determining if an increase in police officers would result in less domestic battery in Chicago. There are too many unknowns:\n",
    "    <br><br>\n",
    "    LIMITATIONS <br>\n",
    "    (1) Total Police Officers working during Events\n",
    "    <br>\n",
    "    (2) Physical Distance between Police Officers and Events aka 'Response Time'\n",
    "    <br>\n",
    "    (3) Population Size in 2004 and 2008\n",
    "    <br>\n",
    "    (4) Reported Events vs Unreported Events\n",
    "    <br><br>\n",
    "    It is rather unrealistic to declare that an increase in police will lower the total occurences of domestic battery. The reality is that people cannot be controlled, and having more people attempting to enforce the law doesn't change what people do behind closed doors.\n",
    "    <br><br>\n",
    "    There are, however, positive theories to the results of the data: **either (A) people are reporting domestic battery more as time goes on, thereby lowering future instances, or (B) increasing police forces allows for more coverage and better response times, thereby lowering future instances.**\n",
    "    <br><br>\n",
    "    FUTURE RESEARCH\n",
    "    <br> \n",
    "    It might prove highly beneficial to seek out the other factors that could have led to the increase in reported battery assault cases. In addition, seeking out the outlier may improve existing statistics for Chicago.\n",
    "    </p>\n",
    "    \n",
    "### Police Officer Information \n",
    "<p>\n",
    "    Total Full-Time Police Officers in Chicago, IL 2004: **13,129**\n",
    "    <br>\n",
    "    ----Source Title: Census of State and Local Law Enforcement Agencies, 2004\n",
    "    <br>\n",
    "    ----Source Location: https://www.bjs.gov/content/pub/pdf/csllea04.pdf\n",
    "    <br><br>\n",
    "    Total Full-Time Police Officers in Chicago, IL 2008: **13,354** \n",
    "    <br>\n",
    "    ----Source Title: Census of State and Local Law Enforcement Agencies, 2008\n",
    "    <br>\n",
    "    ----Source Location: https://www.bjs.gov/content/pub/pdf/csllea08.pdf\n",
    "    <br>\n",
    "</p>"
   ]
  },
  {
   "cell_type": "code",
   "execution_count": null,
   "metadata": {},
   "outputs": [],
   "source": []
  }
 ],
 "metadata": {
  "kernelspec": {
   "display_name": "Python 3",
   "language": "python",
   "name": "python3"
  },
  "language_info": {
   "codemirror_mode": {
    "name": "ipython",
    "version": 3
   },
   "file_extension": ".py",
   "mimetype": "text/x-python",
   "name": "python",
   "nbconvert_exporter": "python",
   "pygments_lexer": "ipython3",
   "version": "3.6.5"
  }
 },
 "nbformat": 4,
 "nbformat_minor": 2
}
